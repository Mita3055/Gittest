{
  "nbformat": 4,
  "nbformat_minor": 0,
  "metadata": {
    "colab": {
      "provenance": [],
      "authorship_tag": "ABX9TyONTeLWcLfdmorCUFnLxG4G",
      "include_colab_link": true
    },
    "kernelspec": {
      "name": "python3",
      "display_name": "Python 3"
    },
    "language_info": {
      "name": "python"
    }
  },
  "cells": [
    {
      "cell_type": "markdown",
      "metadata": {
        "id": "view-in-github",
        "colab_type": "text"
      },
      "source": [
        "<a href=\"https://colab.research.google.com/github/Mita3055/Gittest/blob/main/DIW_Data.ipynb\" target=\"_parent\"><img src=\"https://colab.research.google.com/assets/colab-badge.svg\" alt=\"Open In Colab\"/></a>"
      ]
    },
    {
      "cell_type": "code",
      "source": [
        "#imports\n",
        "\n",
        "import numpy as np\n",
        "import pandas as pd\n",
        "import matplotlib.pyplot as plt\n",
        "from datetime import datetime\n",
        "import csv"
      ],
      "metadata": {
        "id": "44DWEvx7aCiv"
      },
      "execution_count": 4,
      "outputs": []
    },
    {
      "cell_type": "code",
      "execution_count": 5,
      "metadata": {
        "id": "dChuvoZNYZGa"
      },
      "outputs": [],
      "source": [
        "# Input Paramititers\n",
        "\n",
        "time_step = 0.01\n",
        "\n",
        "X_testing = 65\n",
        "Y_testing = 76\n",
        "Z_testing = 127\n",
        "F_testing = 200\n",
        "E_Starting = 1.5\n",
        "E_move = 6.23\n",
        "\n",
        "dispencse_start = 34\n",
        "dispence_time = 58\n",
        "dispence_mass = 0.5 #grams\n",
        "time_wait = 12.36\n",
        "\n",
        "time_end = dispencse_start + dispence_time + time_wait\n",
        "\n",
        "\n"
      ]
    },
    {
      "cell_type": "code",
      "source": [
        "# (Time : linear) (X, Y, Z: constant)\n",
        "\n",
        "time_data = np.arange(0, time_end + time_step, time_step)\n",
        "X_data = np.full_like(time_data, X_testing)\n",
        "Y_data = np.full_like(time_data, Y_testing)\n",
        "Z_data = np.full_like(time_data, Z_testing)\n",
        "\n",
        "data = {'Time': time_data, 'X': X_data, 'Y': Y_data, 'Z': Z_data}\n",
        "df = pd.DataFrame(data)\n",
        "\n",
        "display(df.head())"
      ],
      "metadata": {
        "id": "J19KAbJFaJuy"
      },
      "execution_count": null,
      "outputs": []
    },
    {
      "cell_type": "code",
      "source": [
        "# E Columbs linear advance durring dispence constant else where\n",
        "\n",
        "E_data = []\n",
        "for t in time_data:\n",
        "    if t < dispencse_start:\n",
        "        E_data.append(E_Starting)\n",
        "    elif t < dispencse_start + dispence_time:\n",
        "        # Linear interpolation\n",
        "        E_value = E_Starting + (E_move * (t - dispencse_start) / dispence_time)\n",
        "        E_data.append(E_value)\n",
        "    else:\n",
        "        E_data.append(E_Starting + E_move)\n",
        "\n",
        "df['E'] = E_data\n"
      ],
      "metadata": {
        "id": "DtusWXHVbONQ"
      },
      "execution_count": 7,
      "outputs": []
    },
    {
      "cell_type": "code",
      "source": [
        "# F Columb 0 when dont dispensing F_testing when dispensing\n",
        "# Dispensing Columb False when not dispenceing True When Dispensing\n",
        "\n",
        "F_data = []\n",
        "dispensing_data = []\n",
        "for t in time_data:\n",
        "    if dispencse_start <= t < dispencse_start + dispence_time:\n",
        "        F_data.append(F_testing)\n",
        "        dispensing_data.append(True)\n",
        "    else:\n",
        "        F_data.append(0)\n",
        "        dispensing_data.append(False)\n",
        "\n",
        "df['F'] = F_data\n",
        "df['Dispensing'] = dispensing_data"
      ],
      "metadata": {
        "id": "RcGxx4BNcdI-"
      },
      "execution_count": 8,
      "outputs": []
    },
    {
      "cell_type": "code",
      "source": [
        "# scale mass :\n",
        "m_start = np.random.uniform(8, 12) #starting weight pre-tareing random number between 12&8grams\n",
        "m_noise_factor = 0.02 #noise factor for data set\n",
        "time_tare = np.random.uniform(11, 12) #random dumber between 11-12\n",
        "m_steps = 12 #Steps in step fucntion\n",
        "\n",
        "\n",
        "# starting at m_start at time tare drop the weight reading to 0\n",
        "# step function rising to m_dispence with random widths and lengths\n",
        "# the width of the step function in time must be dispence time\n",
        "# starting at 0 ending at m_dispence\n",
        "#add noice at the end"
      ],
      "metadata": {
        "id": "6w1NkZ3bdGph"
      },
      "execution_count": 11,
      "outputs": []
    },
    {
      "cell_type": "code",
      "source": [
        "# CSV File Settings\n",
        "timestamp = datetime.now().strftime(\"%d_%H%M%S\")\n",
        "file_name = \"results\"+timestamp\n",
        "data = {'Time': time_data, 'X': X_data, 'Y': Y_data, 'Z': Z_data}\n",
        "df = pd.DataFrame(data)\n",
        "\n",
        "# Save to CSV\n",
        "df.to_csv(file_name + '.csv', index=False)\n",
        "\n",
        "display(df.head())\n"
      ],
      "metadata": {
        "id": "TvaUCMdSZLN3"
      },
      "execution_count": null,
      "outputs": []
    }
  ]
}